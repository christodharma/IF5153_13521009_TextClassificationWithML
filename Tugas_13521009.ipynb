{
 "cells": [
  {
   "cell_type": "markdown",
   "metadata": {},
   "source": [
    "# Tugas Pemrograman Text Classification menggunakan ML\n",
    "## 13521009 - Christophorus Dharma Winata"
   ]
  },
  {
   "cell_type": "markdown",
   "metadata": {},
   "source": [
    "# 0. Notebook setup"
   ]
  },
  {
   "cell_type": "code",
   "execution_count": 33,
   "metadata": {},
   "outputs": [
    {
     "name": "stderr",
     "output_type": "stream",
     "text": [
      "[nltk_data] Downloading package stopwords to\n",
      "[nltk_data]     /Users/christodharma/nltk_data...\n",
      "[nltk_data]   Package stopwords is already up-to-date!\n"
     ]
    }
   ],
   "source": [
    "import pandas as pd\n",
    "from sklearn.preprocessing import LabelEncoder\n",
    "from sklearn.feature_extraction.text import CountVectorizer\n",
    "from sklearn.linear_model import LogisticRegression\n",
    "from sklearn.naive_bayes import MultinomialNB\n",
    "from sklearn.svm import SVC\n",
    "from sklearn.metrics import accuracy_score, precision_score, recall_score, f1_score\n",
    "\n",
    "import nltk\n",
    "nltk.download('stopwords')\n",
    "from nltk.corpus import stopwords\n",
    "stopword_indo = stopwords.words('indonesian')"
   ]
  },
  {
   "cell_type": "markdown",
   "metadata": {},
   "source": [
    "# 1. Memuat dataset"
   ]
  },
  {
   "cell_type": "code",
   "execution_count": 22,
   "metadata": {},
   "outputs": [],
   "source": [
    "test_preprocess = pd.read_csv('dataset/test_preprocess.tsv', sep='\\t', header=None, names=['text', 'label'])\n",
    "test_preprocess_masked_label = pd.read_csv('dataset/test_preprocess_masked_label.tsv', sep='\\t', header=None, names=['text', 'label'])\n",
    "train_preprocess = pd.read_csv('dataset/train_preprocess.tsv', sep='\\t', header=None, names=['text', 'label'])\n",
    "valid_preprocess = pd.read_csv('dataset/valid_preprocess.tsv', sep='\\t', header=None, names=['text', 'label'])"
   ]
  },
  {
   "cell_type": "markdown",
   "metadata": {},
   "source": [
    "# 2. Preprocessing"
   ]
  },
  {
   "cell_type": "code",
   "execution_count": 23,
   "metadata": {},
   "outputs": [],
   "source": [
    "data_df = pd.concat([train_preprocess, valid_preprocess])\n",
    "test_df = test_preprocess\n",
    "\n",
    "# membuat semua teks menjadi lowercase\n",
    "data_df['text'] = data_df['text'].str.lower()\n",
    "test_df['text'] = test_df['text'].str.lower()\n",
    "\n",
    "label_encoder = LabelEncoder()\n",
    "data_df['label'] = label_encoder.fit_transform(data_df['label'])\n",
    "test_df['label'] = label_encoder.transform(test_df['label'])\n",
    "\n",
    "# Split into X (features) and y (labels)\n",
    "X_train = data_df['text']\n",
    "y_train = data_df['label']\n",
    "X_test = test_df['text']\n",
    "y_test = test_df['label']"
   ]
  },
  {
   "cell_type": "markdown",
   "metadata": {},
   "source": [
    "# 3. Feature extraction"
   ]
  },
  {
   "cell_type": "code",
   "execution_count": 25,
   "metadata": {},
   "outputs": [
    {
     "name": "stderr",
     "output_type": "stream",
     "text": [
      "/Users/christodharma/Stuff/NLP/Tugas Classification with ML/.venv/lib/python3.12/site-packages/sklearn/feature_extraction/text.py:406: UserWarning: Your stop_words may be inconsistent with your preprocessing. Tokenizing the stop words generated tokens ['baiknya', 'berkali', 'kali', 'kurangnya', 'mata', 'olah', 'sekurang', 'setidak', 'tama', 'tidaknya'] not in stop_words.\n",
      "  warnings.warn(\n"
     ]
    }
   ],
   "source": [
    "# Bag of Words feature extraction\n",
    "vectorizer = CountVectorizer(stop_words=stopword_indo, max_features=1000)\n",
    "X_train_bow = vectorizer.fit_transform(X_train)\n",
    "X_test_bow = vectorizer.transform(X_test)"
   ]
  },
  {
   "cell_type": "markdown",
   "metadata": {},
   "source": [
    "# 4. Model training"
   ]
  },
  {
   "cell_type": "markdown",
   "metadata": {},
   "source": [
    "3 Model yang digunakan:\n",
    "1. Logistic Regression\n",
    "2. Naive Bayes\n",
    "3. Support Vector Machine (SVM)"
   ]
  },
  {
   "cell_type": "code",
   "execution_count": 31,
   "metadata": {},
   "outputs": [],
   "source": [
    "# Logistic Regression\n",
    "logreg = LogisticRegression(max_iter=1000)\n",
    "logreg.fit(X_train_bow, y_train)\n",
    "y_pred_logreg = logreg.predict(X_test_bow)\n",
    "\n",
    "# Naive Bayes\n",
    "nb = MultinomialNB()\n",
    "nb.fit(X_train_bow, y_train)\n",
    "y_pred_nb = nb.predict(X_test_bow)\n",
    "\n",
    "# Support Vector Machine\n",
    "svm = SVC(kernel='linear')\n",
    "svm.fit(X_train_bow, y_train)\n",
    "y_pred_svm = svm.predict(X_test_bow)"
   ]
  },
  {
   "cell_type": "markdown",
   "metadata": {},
   "source": [
    "# 5. Model evaluation"
   ]
  },
  {
   "cell_type": "code",
   "execution_count": 32,
   "metadata": {},
   "outputs": [
    {
     "name": "stdout",
     "output_type": "stream",
     "text": [
      "Logistic Regression Results:  (0.718, np.float64(0.709477620804852), np.float64(0.6615818821701175), np.float64(0.6728771705300874))\n",
      "Naive Bayes Results:  (0.574, np.float64(0.5419683249140613), np.float64(0.5310257552904611), np.float64(0.5178924489739062))\n",
      "SVM Results:  (0.718, np.float64(0.7354401154401154), np.float64(0.668106403400521), np.float64(0.6846018332616475))\n"
     ]
    }
   ],
   "source": [
    "def evaluate_model(y_true, y_pred):\n",
    "    acc = accuracy_score(y_true, y_pred)\n",
    "    prec = precision_score(y_true, y_pred, average='macro')\n",
    "    rec = recall_score(y_true, y_pred, average='macro')\n",
    "    f1 = f1_score(y_true, y_pred, average='macro')\n",
    "    return acc, prec, rec, f1\n",
    "\n",
    "logreg_results = evaluate_model(y_test, y_pred_logreg)\n",
    "nb_results = evaluate_model(y_test, y_pred_nb)\n",
    "svm_results = evaluate_model(y_test, y_pred_svm)\n",
    "\n",
    "print(\"Logistic Regression Results: \", logreg_results)\n",
    "print(\"Naive Bayes Results: \", nb_results)\n",
    "print(\"SVM Results: \", svm_results)"
   ]
  }
 ],
 "metadata": {
  "kernelspec": {
   "display_name": ".venv",
   "language": "python",
   "name": "python3"
  },
  "language_info": {
   "codemirror_mode": {
    "name": "ipython",
    "version": 3
   },
   "file_extension": ".py",
   "mimetype": "text/x-python",
   "name": "python",
   "nbconvert_exporter": "python",
   "pygments_lexer": "ipython3",
   "version": "3.12.4"
  }
 },
 "nbformat": 4,
 "nbformat_minor": 2
}
