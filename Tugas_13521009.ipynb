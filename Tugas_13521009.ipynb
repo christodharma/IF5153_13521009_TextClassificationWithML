{
 "cells": [
  {
   "cell_type": "markdown",
   "metadata": {},
   "source": [
    "# Tugas Pemrograman Text Classification menggunakan ML\n",
    "## 13521009 - Christophorus Dharma Winata"
   ]
  },
  {
   "cell_type": "markdown",
   "metadata": {},
   "source": [
    "# 0. Notebook setup"
   ]
  },
  {
   "cell_type": "code",
   "execution_count": 53,
   "metadata": {},
   "outputs": [
    {
     "name": "stderr",
     "output_type": "stream",
     "text": [
      "[nltk_data] Downloading package stopwords to\n",
      "[nltk_data]     /Users/christodharma/nltk_data...\n",
      "[nltk_data]   Package stopwords is already up-to-date!\n"
     ]
    }
   ],
   "source": [
    "import pandas as pd\n",
    "from sklearn.preprocessing import LabelEncoder\n",
    "from sklearn.feature_extraction.text import CountVectorizer, TfidfVectorizer\n",
    "from sklearn.linear_model import LogisticRegression\n",
    "from sklearn.naive_bayes import MultinomialNB\n",
    "from sklearn.svm import SVC\n",
    "from sklearn.metrics import accuracy_score, precision_score, recall_score, f1_score\n",
    "\n",
    "import nltk\n",
    "nltk.download('stopwords')\n",
    "from nltk.corpus import stopwords\n",
    "stopword_indo = stopwords.words('indonesian')"
   ]
  },
  {
   "cell_type": "markdown",
   "metadata": {},
   "source": [
    "# 1. Memuat dataset"
   ]
  },
  {
   "cell_type": "code",
   "execution_count": 54,
   "metadata": {},
   "outputs": [],
   "source": [
    "test_preprocess = pd.read_csv('dataset/test_preprocess.tsv', sep='\\t', header=None, names=['text', 'label'])\n",
    "test_preprocess_masked_label = pd.read_csv('dataset/test_preprocess_masked_label.tsv', sep='\\t', header=None, names=['text', 'label'])\n",
    "train_preprocess = pd.read_csv('dataset/train_preprocess.tsv', sep='\\t', header=None, names=['text', 'label'])\n",
    "valid_preprocess = pd.read_csv('dataset/valid_preprocess.tsv', sep='\\t', header=None, names=['text', 'label'])"
   ]
  },
  {
   "cell_type": "markdown",
   "metadata": {},
   "source": [
    "# 2. Preprocessing"
   ]
  },
  {
   "cell_type": "code",
   "execution_count": 55,
   "metadata": {},
   "outputs": [],
   "source": [
    "data_df = pd.concat([train_preprocess, valid_preprocess])\n",
    "test_df = test_preprocess\n",
    "\n",
    "# membuat semua teks menjadi lowercase\n",
    "data_df['text'] = data_df['text'].str.lower()\n",
    "test_df['text'] = test_df['text'].str.lower()\n",
    "\n",
    "label_encoder = LabelEncoder()\n",
    "data_df['label'] = label_encoder.fit_transform(data_df['label'])\n",
    "test_df['label'] = label_encoder.transform(test_df['label'])\n",
    "\n",
    "# Split into X (features) and y (labels)\n",
    "X_train = data_df['text']\n",
    "y_train = data_df['label']\n",
    "X_test = test_df['text']\n",
    "y_test = test_df['label']"
   ]
  },
  {
   "cell_type": "markdown",
   "metadata": {},
   "source": [
    "# 3. Feature extraction"
   ]
  },
  {
   "cell_type": "code",
   "execution_count": 56,
   "metadata": {},
   "outputs": [
    {
     "name": "stderr",
     "output_type": "stream",
     "text": [
      "/Users/christodharma/Stuff/NLP/Tugas Classification with ML/.venv/lib/python3.12/site-packages/sklearn/feature_extraction/text.py:406: UserWarning: Your stop_words may be inconsistent with your preprocessing. Tokenizing the stop words generated tokens ['baiknya', 'berkali', 'kali', 'kurangnya', 'mata', 'olah', 'sekurang', 'setidak', 'tama', 'tidaknya'] not in stop_words.\n",
      "  warnings.warn(\n"
     ]
    }
   ],
   "source": [
    "# Bag of Words feature extraction\n",
    "vectorizer = CountVectorizer(stop_words=stopword_indo, max_features=1000)\n",
    "X_train_bow = vectorizer.fit_transform(X_train)\n",
    "X_test_bow = vectorizer.transform(X_test)"
   ]
  },
  {
   "cell_type": "code",
   "execution_count": 57,
   "metadata": {},
   "outputs": [],
   "source": [
    "# TFIDF feature extraction\n",
    "TFIDF_vectorizer = TfidfVectorizer(stop_words=stopword_indo, max_features=1000)\n",
    "X_train_tfidif = TFIDF_vectorizer.fit_transform(X_train)\n",
    "X_test_tfidif = TFIDF_vectorizer.transform(X_test)"
   ]
  },
  {
   "cell_type": "markdown",
   "metadata": {},
   "source": [
    "# 4. Model training"
   ]
  },
  {
   "cell_type": "markdown",
   "metadata": {},
   "source": [
    "3 Model yang digunakan:\n",
    "1. Logistic Regression\n",
    "2. Naive Bayes\n",
    "3. Support Vector Machine (SVM)"
   ]
  },
  {
   "cell_type": "markdown",
   "metadata": {},
   "source": [
    "## Eksperimen dengan CountVectorizer"
   ]
  },
  {
   "cell_type": "code",
   "execution_count": 58,
   "metadata": {},
   "outputs": [],
   "source": [
    "# Logistic Regression\n",
    "logreg = LogisticRegression(max_iter=1000)\n",
    "logreg.fit(X_train_bow, y_train)\n",
    "y_pred_logreg = logreg.predict(X_test_bow)\n",
    "\n",
    "# Naive Bayes\n",
    "nb = MultinomialNB()\n",
    "nb.fit(X_train_bow, y_train)\n",
    "y_pred_nb = nb.predict(X_test_bow)\n",
    "\n",
    "# Support Vector Machine\n",
    "svm = SVC(kernel='linear')\n",
    "svm.fit(X_train_bow, y_train)\n",
    "y_pred_svm = svm.predict(X_test_bow)"
   ]
  },
  {
   "cell_type": "markdown",
   "metadata": {},
   "source": [
    "## Eksperimen dengan TFIDFVectorizer"
   ]
  },
  {
   "cell_type": "code",
   "execution_count": 59,
   "metadata": {},
   "outputs": [],
   "source": [
    "# Logistic Regression\n",
    "logreg = LogisticRegression(max_iter=1000)\n",
    "logreg.fit(X_train_tfidif, y_train)\n",
    "y_pred_logreg_tfidf = logreg.predict(X_test_tfidif)\n",
    "\n",
    "# Naive Bayes\n",
    "nb = MultinomialNB()\n",
    "nb.fit(X_train_tfidif, y_train)\n",
    "y_pred_nb_tfidf = nb.predict(X_test_tfidif)\n",
    "\n",
    "# Support Vector Machine\n",
    "svm = SVC(kernel='linear')\n",
    "svm.fit(X_train_tfidif, y_train)\n",
    "y_pred_svm_tfidf = svm.predict(X_test_tfidif)"
   ]
  },
  {
   "cell_type": "markdown",
   "metadata": {},
   "source": [
    "# 5. Model evaluation"
   ]
  },
  {
   "cell_type": "code",
   "execution_count": 60,
   "metadata": {},
   "outputs": [],
   "source": [
    "def evaluate_model(y_true, y_pred, printResult = True):\n",
    "    acc = accuracy_score(y_true, y_pred)\n",
    "    prec = precision_score(y_true, y_pred, average='macro')\n",
    "    rec = recall_score(y_true, y_pred, average='macro')\n",
    "    f1 = f1_score(y_true, y_pred, average='macro')\n",
    "    if (printResult):\n",
    "        print(f'Akurasi: {acc}\\nPrecision: {prec}\\nRecall: {rec}\\nF1-score: {f1}')\n",
    "    return acc, prec, rec, f1"
   ]
  },
  {
   "cell_type": "markdown",
   "metadata": {},
   "source": [
    "## Evaluasi pada model dengan CountVectorizer"
   ]
  },
  {
   "cell_type": "code",
   "execution_count": 61,
   "metadata": {},
   "outputs": [
    {
     "name": "stdout",
     "output_type": "stream",
     "text": [
      "Hasil Logistic Regression: \n",
      "Akurasi: 0.718\n",
      "Precision: 0.709477620804852\n",
      "Recall: 0.6615818821701175\n",
      "F1-score: 0.6728771705300874\n",
      "\n",
      "Hasil Naive Bayes: \n",
      "Akurasi: 0.574\n",
      "Precision: 0.5419683249140613\n",
      "Recall: 0.5310257552904611\n",
      "F1-score: 0.5178924489739062\n",
      "\n",
      "Hasil SVM: \n",
      "Akurasi: 0.718\n",
      "Precision: 0.7354401154401154\n",
      "Recall: 0.668106403400521\n",
      "F1-score: 0.6846018332616475\n"
     ]
    }
   ],
   "source": [
    "print(\"Hasil Logistic Regression: \")\n",
    "logreg_results = evaluate_model(y_test, y_pred_logreg)\n",
    "print(\"\\nHasil Naive Bayes: \")\n",
    "nb_results = evaluate_model(y_test, y_pred_nb)\n",
    "print(\"\\nHasil SVM: \")\n",
    "svm_results = evaluate_model(y_test, y_pred_svm)"
   ]
  },
  {
   "cell_type": "markdown",
   "metadata": {},
   "source": [
    "## Evaluasi pada model dengan TFIDFVectorizer"
   ]
  },
  {
   "cell_type": "code",
   "execution_count": 62,
   "metadata": {},
   "outputs": [
    {
     "name": "stdout",
     "output_type": "stream",
     "text": [
      "Hasil Logistic Regression: \n",
      "Akurasi: 0.71\n",
      "Precision: 0.7193901874119395\n",
      "Recall: 0.6377519539284244\n",
      "F1-score: 0.6496414322661943\n",
      "\n",
      "Hasil Naive Bayes: \n",
      "Akurasi: 0.62\n",
      "Precision: 0.5982483297061302\n",
      "Recall: 0.5459058914941267\n",
      "F1-score: 0.5447116736990155\n",
      "\n",
      "Hasil SVM: \n",
      "Akurasi: 0.706\n",
      "Precision: 0.71865372139978\n",
      "Recall: 0.6433823529411765\n",
      "F1-score: 0.6566883384473279\n"
     ]
    }
   ],
   "source": [
    "print(\"Hasil Logistic Regression: \")\n",
    "logreg_results = evaluate_model(y_test, y_pred_logreg_tfidf)\n",
    "print(\"\\nHasil Naive Bayes: \")\n",
    "nb_results = evaluate_model(y_test, y_pred_nb_tfidf)\n",
    "print(\"\\nHasil SVM: \")\n",
    "svm_results = evaluate_model(y_test, y_pred_svm_tfidf)"
   ]
  }
 ],
 "metadata": {
  "kernelspec": {
   "display_name": ".venv",
   "language": "python",
   "name": "python3"
  },
  "language_info": {
   "codemirror_mode": {
    "name": "ipython",
    "version": 3
   },
   "file_extension": ".py",
   "mimetype": "text/x-python",
   "name": "python",
   "nbconvert_exporter": "python",
   "pygments_lexer": "ipython3",
   "version": "3.12.4"
  }
 },
 "nbformat": 4,
 "nbformat_minor": 2
}
